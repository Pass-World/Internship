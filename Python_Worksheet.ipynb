{
 "cells": [
  {
   "cell_type": "raw",
   "id": "d1ed5f2e",
   "metadata": {},
   "source": [
    "#QUESTION 11"
   ]
  },
  {
   "cell_type": "code",
   "execution_count": 11,
   "id": "4537c659",
   "metadata": {},
   "outputs": [
    {
     "name": "stdout",
     "output_type": "stream",
     "text": [
      "Enter the number:3\n",
      "Factorial of 3 is 3\n",
      "Factorial of 3 is 6\n",
      "Factorial of 3 is 6\n"
     ]
    }
   ],
   "source": [
    "n=int(input(\"Enter the number:\"))\n",
    "result = 1\n",
    "for i in range (n,0,-1):\n",
    "    result=result*i\n",
    "    print(\"Factorial of\",n,\"is\",result)\n"
   ]
  },
  {
   "cell_type": "code",
   "execution_count": null,
   "id": "b6dc5b4f",
   "metadata": {},
   "outputs": [],
   "source": [
    "#QUESTION 12"
   ]
  },
  {
   "cell_type": "code",
   "execution_count": 12,
   "id": "849564df",
   "metadata": {},
   "outputs": [
    {
     "name": "stdout",
     "output_type": "stream",
     "text": [
      "Enter a natural number:12\n",
      "12 is a Composite Number\n"
     ]
    }
   ],
   "source": [
    "number = int(input(\"Enter a natural number:\"))\n",
    "if number < 1:\n",
    "    print(\"Number needs to be greater than 1\")\n",
    "elif number == 1:\n",
    "    print(number, \"is neither prime nor composite\")\n",
    "else:\n",
    "    for divisor in range(2, (number//2)+1):\n",
    "        if (number %  divisor)== 0:\n",
    "            print(number,\"is a Composite Number\")\n",
    "            break\n",
    "    else:\n",
    "        print(number, \"is a Prime Number\")\n"
   ]
  },
  {
   "cell_type": "code",
   "execution_count": null,
   "id": "04b4c0a3",
   "metadata": {},
   "outputs": [],
   "source": [
    "#QUESTION 13"
   ]
  },
  {
   "cell_type": "code",
   "execution_count": 9,
   "id": "d3054d78",
   "metadata": {},
   "outputs": [
    {
     "name": "stdout",
     "output_type": "stream",
     "text": [
      "Enter a value :madam\n",
      "Yes, it's a Palindrome.\n"
     ]
    }
   ],
   "source": [
    "\n",
    "z = input(\"Enter a value :\")\n",
    "reverse = z[::-1]\n",
    "if(z==reverse):\n",
    "    print(\"Yes, it's a Palindrome.\")\n",
    "else:\n",
    "    print(\"No, it's not a Palindrome.\")"
   ]
  },
  {
   "cell_type": "code",
   "execution_count": null,
   "id": "d0b7fa12",
   "metadata": {},
   "outputs": [],
   "source": [
    "#QUESTION 14"
   ]
  },
  {
   "cell_type": "code",
   "execution_count": 1,
   "id": "2ffad487",
   "metadata": {},
   "outputs": [
    {
     "name": "stdout",
     "output_type": "stream",
     "text": [
      "Enter the lengths of two shorter sides :\n",
      "Side a is: 3\n",
      "Side b is: 5\n",
      "The hypothenuse side is 5.830951894845301\n"
     ]
    }
   ],
   "source": [
    "from math import sqrt\n",
    "print (\"Enter the lengths of two shorter sides :\")\n",
    "a = float(input(\"Side a is: \"))\n",
    "b = float(input(\"Side b is: \"))\n",
    "       \n",
    "h=sqrt(a**2+b**2)\n",
    "print(\"The hypothenuse side is\", h)\n",
    "       \n",
    "       \n"
   ]
  },
  {
   "cell_type": "code",
   "execution_count": null,
   "id": "6037d8fb",
   "metadata": {},
   "outputs": [],
   "source": [
    "#QUESTION 15"
   ]
  },
  {
   "cell_type": "code",
   "execution_count": 6,
   "id": "802b1ec1",
   "metadata": {},
   "outputs": [
    {
     "name": "stdout",
     "output_type": "stream",
     "text": [
      "Enter the stringdata\n",
      "{'d': 1, 'a': 2, 't': 1}\n"
     ]
    }
   ],
   "source": [
    "str1=input('Enter the string')\n",
    "a1=dict()\n",
    "for b in str1:\n",
    "    if b in a1:\n",
    "        a1[b]=a1[b]+1\n",
    "    else:\n",
    "        a1[b]=1\n",
    "print (a1)"
   ]
  }
 ],
 "metadata": {
  "kernelspec": {
   "display_name": "Python 3 (ipykernel)",
   "language": "python",
   "name": "python3"
  },
  "language_info": {
   "codemirror_mode": {
    "name": "ipython",
    "version": 3
   },
   "file_extension": ".py",
   "mimetype": "text/x-python",
   "name": "python",
   "nbconvert_exporter": "python",
   "pygments_lexer": "ipython3",
   "version": "3.9.12"
  }
 },
 "nbformat": 4,
 "nbformat_minor": 5
}
